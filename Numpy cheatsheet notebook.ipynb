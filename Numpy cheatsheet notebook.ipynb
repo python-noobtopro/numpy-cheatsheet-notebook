{
 "cells": [
  {
   "cell_type": "code",
   "execution_count": 2,
   "id": "6734ed1b",
   "metadata": {},
   "outputs": [],
   "source": [
    "import numpy as np"
   ]
  },
  {
   "cell_type": "markdown",
   "id": "57e28b44",
   "metadata": {},
   "source": [
    "## 1. Creating arrays"
   ]
  },
  {
   "cell_type": "markdown",
   "id": "46782e14",
   "metadata": {},
   "source": [
    "#### 1-D Array"
   ]
  },
  {
   "cell_type": "code",
   "execution_count": 2,
   "id": "cc91f137",
   "metadata": {},
   "outputs": [
    {
     "data": {
      "text/plain": [
       "array([1, 2, 3])"
      ]
     },
     "execution_count": 2,
     "metadata": {},
     "output_type": "execute_result"
    }
   ],
   "source": [
    "a = np.array([1,2,3])\n",
    "a"
   ]
  },
  {
   "cell_type": "markdown",
   "id": "9a7ffdf2",
   "metadata": {},
   "source": [
    "#### 2-D Array"
   ]
  },
  {
   "cell_type": "code",
   "execution_count": 3,
   "id": "c5a58438",
   "metadata": {},
   "outputs": [
    {
     "data": {
      "text/plain": [
       "array([[1, 2, 3],\n",
       "       [4, 5, 6]])"
      ]
     },
     "execution_count": 3,
     "metadata": {},
     "output_type": "execute_result"
    }
   ],
   "source": [
    "b = np.array([[1,2,3],[4,5,6]])\n",
    "b"
   ]
  },
  {
   "cell_type": "markdown",
   "id": "d6739857",
   "metadata": {},
   "source": [
    " #### 3-D Array"
   ]
  },
  {
   "cell_type": "code",
   "execution_count": 4,
   "id": "de74ff6d",
   "metadata": {},
   "outputs": [
    {
     "data": {
      "text/plain": [
       "array([[[ 1,  2,  3],\n",
       "        [ 4,  5,  6]],\n",
       "\n",
       "       [[ 7,  8,  9],\n",
       "        [10, 11, 12]]])"
      ]
     },
     "execution_count": 4,
     "metadata": {},
     "output_type": "execute_result"
    }
   ],
   "source": [
    "c = np.array([[[1,2,3],[4,5,6]],[[7,8,9],[10,11,12]]])\n",
    "c"
   ]
  },
  {
   "cell_type": "markdown",
   "id": "bab36a9a",
   "metadata": {},
   "source": [
    "### 1a. Getting Dimmensions of array"
   ]
  },
  {
   "cell_type": "code",
   "execution_count": 5,
   "id": "3f85ff95",
   "metadata": {},
   "outputs": [
    {
     "data": {
      "text/plain": [
       "1"
      ]
     },
     "execution_count": 5,
     "metadata": {},
     "output_type": "execute_result"
    }
   ],
   "source": [
    "a.ndim"
   ]
  },
  {
   "cell_type": "code",
   "execution_count": 6,
   "id": "1b18e23e",
   "metadata": {},
   "outputs": [
    {
     "data": {
      "text/plain": [
       "2"
      ]
     },
     "execution_count": 6,
     "metadata": {},
     "output_type": "execute_result"
    }
   ],
   "source": [
    "b.ndim"
   ]
  },
  {
   "cell_type": "code",
   "execution_count": 7,
   "id": "28cb652d",
   "metadata": {},
   "outputs": [
    {
     "data": {
      "text/plain": [
       "3"
      ]
     },
     "execution_count": 7,
     "metadata": {},
     "output_type": "execute_result"
    }
   ],
   "source": [
    "c.ndim"
   ]
  },
  {
   "cell_type": "markdown",
   "id": "bab4e332",
   "metadata": {},
   "source": [
    "### 1b. Getting shape of an Array"
   ]
  },
  {
   "cell_type": "code",
   "execution_count": 8,
   "id": "bd2fd40a",
   "metadata": {},
   "outputs": [
    {
     "data": {
      "text/plain": [
       "(3,)"
      ]
     },
     "execution_count": 8,
     "metadata": {},
     "output_type": "execute_result"
    }
   ],
   "source": [
    "a.shape"
   ]
  },
  {
   "cell_type": "code",
   "execution_count": 9,
   "id": "e67e08e4",
   "metadata": {},
   "outputs": [
    {
     "data": {
      "text/plain": [
       "(2, 3)"
      ]
     },
     "execution_count": 9,
     "metadata": {},
     "output_type": "execute_result"
    }
   ],
   "source": [
    "b.shape"
   ]
  },
  {
   "cell_type": "code",
   "execution_count": 10,
   "id": "da30142c",
   "metadata": {},
   "outputs": [
    {
     "data": {
      "text/plain": [
       "(2, 2, 3)"
      ]
     },
     "execution_count": 10,
     "metadata": {},
     "output_type": "execute_result"
    }
   ],
   "source": [
    "c.shape"
   ]
  },
  {
   "cell_type": "markdown",
   "id": "f5eb7c88",
   "metadata": {},
   "source": [
    "### 1c. Getting datatype"
   ]
  },
  {
   "cell_type": "code",
   "execution_count": 11,
   "id": "21aa6806",
   "metadata": {},
   "outputs": [
    {
     "data": {
      "text/plain": [
       "dtype('int32')"
      ]
     },
     "execution_count": 11,
     "metadata": {},
     "output_type": "execute_result"
    }
   ],
   "source": [
    "a.dtype"
   ]
  },
  {
   "cell_type": "raw",
   "id": "77eedfd2",
   "metadata": {},
   "source": [
    "## Note: we can specify the data type explicitly"
   ]
  },
  {
   "cell_type": "code",
   "execution_count": 12,
   "id": "34e14e7d",
   "metadata": {},
   "outputs": [],
   "source": [
    "a = np.array([1,2,3], dtype = 'int16')"
   ]
  },
  {
   "cell_type": "code",
   "execution_count": 13,
   "id": "fb5c4e0b",
   "metadata": {},
   "outputs": [
    {
     "data": {
      "text/plain": [
       "array([1, 2, 3], dtype=int16)"
      ]
     },
     "execution_count": 13,
     "metadata": {},
     "output_type": "execute_result"
    }
   ],
   "source": [
    "a"
   ]
  },
  {
   "cell_type": "code",
   "execution_count": 15,
   "id": "70839cbf",
   "metadata": {},
   "outputs": [
    {
     "data": {
      "text/plain": [
       "2"
      ]
     },
     "execution_count": 15,
     "metadata": {},
     "output_type": "execute_result"
    }
   ],
   "source": [
    "# Getting Size\n",
    "\n",
    "a.itemsize"
   ]
  },
  {
   "cell_type": "markdown",
   "id": "afd01297",
   "metadata": {},
   "source": [
    "### 1d. Getting Total Size of an Array"
   ]
  },
  {
   "cell_type": "code",
   "execution_count": 16,
   "id": "ee9e7d0f",
   "metadata": {},
   "outputs": [
    {
     "data": {
      "text/plain": [
       "6"
      ]
     },
     "execution_count": 16,
     "metadata": {},
     "output_type": "execute_result"
    }
   ],
   "source": [
    "a.size * a.itemsize"
   ]
  },
  {
   "cell_type": "raw",
   "id": "89d924f0",
   "metadata": {},
   "source": [
    "## The result above is 6 bytes. There are 3 elements with 2 bytes each element size"
   ]
  },
  {
   "cell_type": "code",
   "execution_count": 17,
   "id": "64e22b54",
   "metadata": {},
   "outputs": [
    {
     "data": {
      "text/plain": [
       "6"
      ]
     },
     "execution_count": 17,
     "metadata": {},
     "output_type": "execute_result"
    }
   ],
   "source": [
    "# Simpler way\n",
    "\n",
    "a.nbytes"
   ]
  },
  {
   "cell_type": "markdown",
   "id": "2d7f5a26",
   "metadata": {},
   "source": [
    "## 2. Accessing/Updating elements of any array"
   ]
  },
  {
   "cell_type": "raw",
   "id": "cc2b7e6d",
   "metadata": {},
   "source": [
    "## Let's define a 2-D array of 2 * 7"
   ]
  },
  {
   "cell_type": "code",
   "execution_count": 18,
   "id": "decf32d9",
   "metadata": {},
   "outputs": [
    {
     "name": "stdout",
     "output_type": "stream",
     "text": [
      "[[ 1  2  3  4  5  6  7]\n",
      " [ 8  9 10 11 12 13 14]]\n"
     ]
    }
   ],
   "source": [
    "x = np.array([[1,2,3,4,5,6,7],[8,9,10,11,12,13,14]])\n",
    "print(x)"
   ]
  },
  {
   "cell_type": "raw",
   "id": "a711b218",
   "metadata": {},
   "source": [
    "# Suppose we want to access '10' from the array\n",
    "# Since, '10' is in the 2nd row (1 index) and 3rd column (2 index), we do as follows"
   ]
  },
  {
   "cell_type": "code",
   "execution_count": 21,
   "id": "f5ebed23",
   "metadata": {},
   "outputs": [
    {
     "data": {
      "text/plain": [
       "10"
      ]
     },
     "execution_count": 21,
     "metadata": {},
     "output_type": "execute_result"
    }
   ],
   "source": [
    "x[1,2]"
   ]
  },
  {
   "cell_type": "raw",
   "id": "d63fb681",
   "metadata": {},
   "source": [
    "# Suppose we want a specific row"
   ]
  },
  {
   "cell_type": "code",
   "execution_count": 22,
   "id": "4665a7e3",
   "metadata": {},
   "outputs": [
    {
     "data": {
      "text/plain": [
       "array([ 8,  9, 10, 11, 12, 13, 14])"
      ]
     },
     "execution_count": 22,
     "metadata": {},
     "output_type": "execute_result"
    }
   ],
   "source": [
    "# Second row\n",
    "\n",
    "x[1, :]"
   ]
  },
  {
   "cell_type": "raw",
   "id": "1539e98b",
   "metadata": {},
   "source": [
    "# Get a specific column"
   ]
  },
  {
   "cell_type": "code",
   "execution_count": 23,
   "id": "04b1c953",
   "metadata": {},
   "outputs": [
    {
     "data": {
      "text/plain": [
       "array([ 3, 10])"
      ]
     },
     "execution_count": 23,
     "metadata": {},
     "output_type": "execute_result"
    }
   ],
   "source": [
    "# 3rd column\n",
    "\n",
    "x[:, 2]"
   ]
  },
  {
   "cell_type": "markdown",
   "id": "21a2bae1",
   "metadata": {},
   "source": [
    "### 2a. Using stepsize"
   ]
  },
  {
   "cell_type": "raw",
   "id": "351af203",
   "metadata": {},
   "source": [
    "# Suppose we want all alternate columns"
   ]
  },
  {
   "cell_type": "code",
   "execution_count": 27,
   "id": "4732f48c",
   "metadata": {},
   "outputs": [
    {
     "data": {
      "text/plain": [
       "array([[ 1,  3,  5,  7],\n",
       "       [ 8, 10, 12, 14]])"
      ]
     },
     "execution_count": 27,
     "metadata": {},
     "output_type": "execute_result"
    }
   ],
   "source": [
    "x[:, 0:7:2]            "
   ]
  },
  {
   "cell_type": "raw",
   "id": "c4e7dac2",
   "metadata": {},
   "source": [
    "# Explanation:\n",
    "x[no. of rows, start:end:step]"
   ]
  },
  {
   "cell_type": "raw",
   "id": "a00f3fe5",
   "metadata": {},
   "source": [
    "# Suppose we want only columns containing 3 and 5"
   ]
  },
  {
   "cell_type": "code",
   "execution_count": 28,
   "id": "1801a918",
   "metadata": {},
   "outputs": [
    {
     "data": {
      "text/plain": [
       "array([[ 3,  5],\n",
       "       [10, 12]])"
      ]
     },
     "execution_count": 28,
     "metadata": {},
     "output_type": "execute_result"
    }
   ],
   "source": [
    "x[:, 2:5:2]"
   ]
  },
  {
   "cell_type": "markdown",
   "id": "d45555f9",
   "metadata": {},
   "source": [
    "### 2b. Updating elements"
   ]
  },
  {
   "cell_type": "code",
   "execution_count": 29,
   "id": "4db1619f",
   "metadata": {},
   "outputs": [
    {
     "data": {
      "text/plain": [
       "array([[ 1,  2,  3,  4,  5,  6,  7],\n",
       "       [ 8,  9, 10, 11, 12, 13, 14]])"
      ]
     },
     "execution_count": 29,
     "metadata": {},
     "output_type": "execute_result"
    }
   ],
   "source": [
    "x"
   ]
  },
  {
   "cell_type": "raw",
   "id": "3ead938b",
   "metadata": {},
   "source": [
    "# Suppose we want to change any specific element, say change 11 to 56"
   ]
  },
  {
   "cell_type": "code",
   "execution_count": 30,
   "id": "d8093593",
   "metadata": {},
   "outputs": [],
   "source": [
    "x[1,3] = 56"
   ]
  },
  {
   "cell_type": "code",
   "execution_count": 31,
   "id": "6999c56d",
   "metadata": {},
   "outputs": [
    {
     "data": {
      "text/plain": [
       "array([[ 1,  2,  3,  4,  5,  6,  7],\n",
       "       [ 8,  9, 10, 56, 12, 13, 14]])"
      ]
     },
     "execution_count": 31,
     "metadata": {},
     "output_type": "execute_result"
    }
   ],
   "source": [
    "x"
   ]
  },
  {
   "cell_type": "raw",
   "id": "31b5af3f",
   "metadata": {},
   "source": [
    "# Suppose we want to change all elements of a column"
   ]
  },
  {
   "cell_type": "code",
   "execution_count": 33,
   "id": "e4b2f316",
   "metadata": {},
   "outputs": [
    {
     "data": {
      "text/plain": [
       "array([[ 1,  2, 72,  4,  5,  6,  7],\n",
       "       [ 8,  9, 72, 56, 12, 13, 14]])"
      ]
     },
     "execution_count": 33,
     "metadata": {},
     "output_type": "execute_result"
    }
   ],
   "source": [
    "# Changing all elements of column containing 3 to 72\n",
    "\n",
    "x[:, 2] = 72\n",
    "x"
   ]
  },
  {
   "cell_type": "code",
   "execution_count": 35,
   "id": "33cd8f67",
   "metadata": {},
   "outputs": [
    {
     "data": {
      "text/plain": [
       "array([[ 1,  2, 72,  4,  5, 32,  7],\n",
       "       [ 8,  9, 72, 56, 12, 98, 14]])"
      ]
     },
     "execution_count": 35,
     "metadata": {},
     "output_type": "execute_result"
    }
   ],
   "source": [
    "# Changing all elements of column containing 6, 13 to 32, 98\n",
    "\n",
    "x[:, 5] = [32,98]\n",
    "x"
   ]
  },
  {
   "cell_type": "markdown",
   "id": "28ff37ed",
   "metadata": {},
   "source": [
    "#### Things get a bit complicated in 3-D array (work outside in)"
   ]
  },
  {
   "cell_type": "code",
   "execution_count": 36,
   "id": "20eb618c",
   "metadata": {},
   "outputs": [],
   "source": [
    "y = np.array([[[1,2,3],[4,5,6]],[[7,8,9],[10,11,12]]])"
   ]
  },
  {
   "cell_type": "code",
   "execution_count": 37,
   "id": "050e1a9d",
   "metadata": {},
   "outputs": [
    {
     "name": "stdout",
     "output_type": "stream",
     "text": [
      "[[[ 1  2  3]\n",
      "  [ 4  5  6]]\n",
      "\n",
      " [[ 7  8  9]\n",
      "  [10 11 12]]]\n"
     ]
    }
   ],
   "source": [
    "print(y)"
   ]
  },
  {
   "cell_type": "code",
   "execution_count": 38,
   "id": "49228f1b",
   "metadata": {},
   "outputs": [
    {
     "data": {
      "text/plain": [
       "3"
      ]
     },
     "execution_count": 38,
     "metadata": {},
     "output_type": "execute_result"
    }
   ],
   "source": [
    "y.ndim"
   ]
  },
  {
   "cell_type": "raw",
   "id": "29e19f5f",
   "metadata": {},
   "source": [
    "# Suppose we want to access '6' (work outside in)"
   ]
  },
  {
   "cell_type": "code",
   "execution_count": 40,
   "id": "5b0cfb24",
   "metadata": {},
   "outputs": [
    {
     "data": {
      "text/plain": [
       "6"
      ]
     },
     "execution_count": 40,
     "metadata": {},
     "output_type": "execute_result"
    }
   ],
   "source": [
    "y[0,1,2]"
   ]
  },
  {
   "cell_type": "raw",
   "id": "fea5288f",
   "metadata": {},
   "source": [
    "# Grabbing '11'"
   ]
  },
  {
   "cell_type": "code",
   "execution_count": 41,
   "id": "de8aea1b",
   "metadata": {},
   "outputs": [
    {
     "data": {
      "text/plain": [
       "11"
      ]
     },
     "execution_count": 41,
     "metadata": {},
     "output_type": "execute_result"
    }
   ],
   "source": [
    "y[1,1,1]"
   ]
  },
  {
   "cell_type": "code",
   "execution_count": 42,
   "id": "0187818a",
   "metadata": {},
   "outputs": [
    {
     "data": {
      "text/plain": [
       "array([[[ 1,  2,  3],\n",
       "        [ 4,  5,  6]],\n",
       "\n",
       "       [[ 7,  8,  9],\n",
       "        [10, 11, 12]]])"
      ]
     },
     "execution_count": 42,
     "metadata": {},
     "output_type": "execute_result"
    }
   ],
   "source": [
    "y"
   ]
  },
  {
   "cell_type": "code",
   "execution_count": 43,
   "id": "70eb27c6",
   "metadata": {},
   "outputs": [
    {
     "data": {
      "text/plain": [
       "array([[ 4,  5,  6],\n",
       "       [10, 11, 12]])"
      ]
     },
     "execution_count": 43,
     "metadata": {},
     "output_type": "execute_result"
    }
   ],
   "source": [
    "# Getting set of elements\n",
    "\n",
    "y[:,1,:]"
   ]
  },
  {
   "cell_type": "code",
   "execution_count": 44,
   "id": "a605ca4f",
   "metadata": {},
   "outputs": [
    {
     "data": {
      "text/plain": [
       "array([[1, 2, 3],\n",
       "       [7, 8, 9]])"
      ]
     },
     "execution_count": 44,
     "metadata": {},
     "output_type": "execute_result"
    }
   ],
   "source": [
    "y[:,0,:]"
   ]
  },
  {
   "cell_type": "code",
   "execution_count": 45,
   "id": "69a38344",
   "metadata": {},
   "outputs": [
    {
     "data": {
      "text/plain": [
       "array([[ 2,  5],\n",
       "       [ 8, 11]])"
      ]
     },
     "execution_count": 45,
     "metadata": {},
     "output_type": "execute_result"
    }
   ],
   "source": [
    "y[:,:,1]"
   ]
  },
  {
   "cell_type": "raw",
   "id": "30fe3876",
   "metadata": {},
   "source": [
    "# We can get the idea from the above examples and play around a bit to get the complete picture"
   ]
  },
  {
   "cell_type": "markdown",
   "id": "a5610379",
   "metadata": {},
   "source": [
    "#### Changing elements in 3-D array"
   ]
  },
  {
   "cell_type": "code",
   "execution_count": 47,
   "id": "0d689e98",
   "metadata": {},
   "outputs": [
    {
     "data": {
      "text/plain": [
       "array([[[ 1,  2,  3],\n",
       "        [ 4,  5,  6]],\n",
       "\n",
       "       [[ 7,  8,  9],\n",
       "        [10, 11, 12]]])"
      ]
     },
     "execution_count": 47,
     "metadata": {},
     "output_type": "execute_result"
    }
   ],
   "source": [
    "y"
   ]
  },
  {
   "cell_type": "raw",
   "id": "8e481198",
   "metadata": {},
   "source": [
    "# Suppose we want to change 4,5,6 to 11,12,13"
   ]
  },
  {
   "cell_type": "code",
   "execution_count": 48,
   "id": "6aeb84c4",
   "metadata": {},
   "outputs": [
    {
     "data": {
      "text/plain": [
       "array([4, 5, 6])"
      ]
     },
     "execution_count": 48,
     "metadata": {},
     "output_type": "execute_result"
    }
   ],
   "source": [
    "# First grab that portion\n",
    "\n",
    "y[0,1,:]"
   ]
  },
  {
   "cell_type": "code",
   "execution_count": 49,
   "id": "7c86f6c0",
   "metadata": {},
   "outputs": [],
   "source": [
    "# Replace with same size dataset\n",
    "\n",
    "y[0,1,:] = [11,12,13]"
   ]
  },
  {
   "cell_type": "code",
   "execution_count": 50,
   "id": "de6fed1b",
   "metadata": {},
   "outputs": [
    {
     "data": {
      "text/plain": [
       "array([[[ 1,  2,  3],\n",
       "        [11, 12, 13]],\n",
       "\n",
       "       [[ 7,  8,  9],\n",
       "        [10, 11, 12]]])"
      ]
     },
     "execution_count": 50,
     "metadata": {},
     "output_type": "execute_result"
    }
   ],
   "source": [
    "y"
   ]
  },
  {
   "cell_type": "raw",
   "id": "221bcea6",
   "metadata": {},
   "source": [
    "# Suppose we want to change 3 and 13 to 56 and 57"
   ]
  },
  {
   "cell_type": "code",
   "execution_count": 52,
   "id": "9591b71d",
   "metadata": {},
   "outputs": [
    {
     "data": {
      "text/plain": [
       "array([ 3, 13])"
      ]
     },
     "execution_count": 52,
     "metadata": {},
     "output_type": "execute_result"
    }
   ],
   "source": [
    "y[0,:,2]"
   ]
  },
  {
   "cell_type": "code",
   "execution_count": 54,
   "id": "bc356969",
   "metadata": {},
   "outputs": [
    {
     "data": {
      "text/plain": [
       "array([[[ 1,  2, 56],\n",
       "        [11, 12, 57]],\n",
       "\n",
       "       [[ 7,  8,  9],\n",
       "        [10, 11, 12]]])"
      ]
     },
     "execution_count": 54,
     "metadata": {},
     "output_type": "execute_result"
    }
   ],
   "source": [
    "y[0,:,2] = [56,57]\n",
    "y"
   ]
  },
  {
   "cell_type": "raw",
   "id": "943bd706",
   "metadata": {},
   "source": [
    "# Changing 2,12,8,11 to 1,2,3,4"
   ]
  },
  {
   "cell_type": "code",
   "execution_count": 56,
   "id": "f6df40e9",
   "metadata": {},
   "outputs": [
    {
     "data": {
      "text/plain": [
       "array([[ 2, 12],\n",
       "       [ 8, 11]])"
      ]
     },
     "execution_count": 56,
     "metadata": {},
     "output_type": "execute_result"
    }
   ],
   "source": [
    "y[:,:,1]"
   ]
  },
  {
   "cell_type": "code",
   "execution_count": 58,
   "id": "0bb83106",
   "metadata": {},
   "outputs": [
    {
     "data": {
      "text/plain": [
       "array([[[ 1,  1, 56],\n",
       "        [11,  2, 57]],\n",
       "\n",
       "       [[ 7,  3,  9],\n",
       "        [10,  4, 12]]])"
      ]
     },
     "execution_count": 58,
     "metadata": {},
     "output_type": "execute_result"
    }
   ],
   "source": [
    "y[:,:,1] = [1,2],[3,4]\n",
    "y"
   ]
  },
  {
   "cell_type": "markdown",
   "id": "780002ee",
   "metadata": {},
   "source": [
    "## 3. Creating arrays with predefined presets"
   ]
  },
  {
   "cell_type": "code",
   "execution_count": 62,
   "id": "9df855e5",
   "metadata": {},
   "outputs": [
    {
     "data": {
      "text/plain": [
       "array([[[0., 0., 0.],\n",
       "        [0., 0., 0.],\n",
       "        [0., 0., 0.]],\n",
       "\n",
       "       [[0., 0., 0.],\n",
       "        [0., 0., 0.],\n",
       "        [0., 0., 0.]]])"
      ]
     },
     "execution_count": 62,
     "metadata": {},
     "output_type": "execute_result"
    }
   ],
   "source": [
    "# All 0s matrix\n",
    "\n",
    "zero = np.zeros((2,3,3))\n",
    "zero"
   ]
  },
  {
   "cell_type": "code",
   "execution_count": 71,
   "id": "b9ab4598",
   "metadata": {},
   "outputs": [
    {
     "data": {
      "text/plain": [
       "array([[1., 1.],\n",
       "       [1., 1.],\n",
       "       [1., 1.]])"
      ]
     },
     "execution_count": 71,
     "metadata": {},
     "output_type": "execute_result"
    }
   ],
   "source": [
    "# All 1s matrix\n",
    "\n",
    "np.ones((3,2))"
   ]
  },
  {
   "cell_type": "code",
   "execution_count": 64,
   "id": "c5292450",
   "metadata": {},
   "outputs": [
    {
     "data": {
      "text/plain": [
       "array([[10, 10, 10],\n",
       "       [10, 10, 10],\n",
       "       [10, 10, 10]])"
      ]
     },
     "execution_count": 64,
     "metadata": {},
     "output_type": "execute_result"
    }
   ],
   "source": [
    "# Any other number\n",
    "\n",
    "np.full((3,3), 10)"
   ]
  },
  {
   "cell_type": "code",
   "execution_count": 65,
   "id": "c77afcd2",
   "metadata": {},
   "outputs": [
    {
     "data": {
      "text/plain": [
       "array([[ 1,  2, 72,  4,  5, 32,  7],\n",
       "       [ 8,  9, 72, 56, 12, 98, 14]])"
      ]
     },
     "execution_count": 65,
     "metadata": {},
     "output_type": "execute_result"
    }
   ],
   "source": [
    "# If we want to use the shape of our any previous array to create a new array\n",
    "\n",
    "x"
   ]
  },
  {
   "cell_type": "code",
   "execution_count": 66,
   "id": "90d30b16",
   "metadata": {},
   "outputs": [
    {
     "data": {
      "text/plain": [
       "array([[99, 99, 99, 99, 99, 99, 99],\n",
       "       [99, 99, 99, 99, 99, 99, 99]])"
      ]
     },
     "execution_count": 66,
     "metadata": {},
     "output_type": "execute_result"
    }
   ],
   "source": [
    "# Suppose we want to use the above array and create a new array containig only 99s\n",
    "\n",
    "np.full_like(x, 99)"
   ]
  },
  {
   "cell_type": "code",
   "execution_count": 67,
   "id": "f336c5e9",
   "metadata": {},
   "outputs": [
    {
     "data": {
      "text/plain": [
       "array([[99, 99, 99, 99, 99, 99, 99],\n",
       "       [99, 99, 99, 99, 99, 99, 99]])"
      ]
     },
     "execution_count": 67,
     "metadata": {},
     "output_type": "execute_result"
    }
   ],
   "source": [
    "# Alternative way\n",
    "\n",
    "np.full(x.shape,99)"
   ]
  },
  {
   "cell_type": "code",
   "execution_count": 72,
   "id": "ca5b6790",
   "metadata": {},
   "outputs": [
    {
     "data": {
      "text/plain": [
       "array([[0.13946443, 0.34283809, 0.20404692],\n",
       "       [0.49850823, 0.62490004, 0.26978758]])"
      ]
     },
     "execution_count": 72,
     "metadata": {},
     "output_type": "execute_result"
    }
   ],
   "source": [
    "# Making a matrix with random numbers between 0 and 1\n",
    "\n",
    "np.random.rand(2,3)"
   ]
  },
  {
   "cell_type": "raw",
   "id": "454faaf2",
   "metadata": {},
   "source": [
    "# Note that in the above method we do not use the internal brackets when giving size of the matrix"
   ]
  },
  {
   "cell_type": "code",
   "execution_count": 74,
   "id": "9a171d25",
   "metadata": {},
   "outputs": [
    {
     "data": {
      "text/plain": [
       "array([[0.7640261 , 0.40635119, 0.9801406 , 0.89911068, 0.32941859,\n",
       "        0.5770602 , 0.71799804],\n",
       "       [0.87519611, 0.55022289, 0.02333058, 0.15335068, 0.12074193,\n",
       "        0.69916112, 0.27801542]])"
      ]
     },
     "execution_count": 74,
     "metadata": {},
     "output_type": "execute_result"
    }
   ],
   "source": [
    "# We can also sample a predefined array size to make a new random array\n",
    "\n",
    "np.random.random_sample(x.shape)"
   ]
  },
  {
   "cell_type": "code",
   "execution_count": 76,
   "id": "e5686158",
   "metadata": {},
   "outputs": [
    {
     "data": {
      "text/plain": [
       "array([[1, 4],\n",
       "       [4, 1],\n",
       "       [2, 3]])"
      ]
     },
     "execution_count": 76,
     "metadata": {},
     "output_type": "execute_result"
    }
   ],
   "source": [
    "# Making a random integer array\n",
    "\n",
    "np.random.randint(1,6, size=(3,2))"
   ]
  },
  {
   "cell_type": "raw",
   "id": "9a4cfed7",
   "metadata": {},
   "source": [
    "# np.random.randint(startint, endint, size=(x,y))"
   ]
  },
  {
   "cell_type": "code",
   "execution_count": 77,
   "id": "23cd3cbb",
   "metadata": {},
   "outputs": [
    {
     "data": {
      "text/plain": [
       "array([[1., 0., 0., 0.],\n",
       "       [0., 1., 0., 0.],\n",
       "       [0., 0., 1., 0.],\n",
       "       [0., 0., 0., 1.]])"
      ]
     },
     "execution_count": 77,
     "metadata": {},
     "output_type": "execute_result"
    }
   ],
   "source": [
    "# Identity Matrix (always square)\n",
    "\n",
    "np.identity(4)"
   ]
  },
  {
   "cell_type": "code",
   "execution_count": 79,
   "id": "810e4b17",
   "metadata": {},
   "outputs": [
    {
     "data": {
      "text/plain": [
       "array([[1, 1, 2, 2, 3, 3]])"
      ]
     },
     "execution_count": 79,
     "metadata": {},
     "output_type": "execute_result"
    }
   ],
   "source": [
    "# Repeat an array\n",
    "\n",
    "arr = np.array([[1,2,3]])   # Making it intentionally 2-D to use axis parameter\n",
    "\n",
    "rep = np.repeat(arr,2, axis=1)\n",
    "\n",
    "rep"
   ]
  },
  {
   "cell_type": "code",
   "execution_count": 81,
   "id": "95e5cf3f",
   "metadata": {},
   "outputs": [
    {
     "data": {
      "text/plain": [
       "array([[1, 2, 3],\n",
       "       [1, 2, 3],\n",
       "       [1, 2, 3]])"
      ]
     },
     "execution_count": 81,
     "metadata": {},
     "output_type": "execute_result"
    }
   ],
   "source": [
    "rep = np.repeat(arr,3, axis=0)\n",
    "rep"
   ]
  },
  {
   "cell_type": "markdown",
   "id": "5b75bc40",
   "metadata": {},
   "source": [
    "## 4. Copying contents of an Array"
   ]
  },
  {
   "cell_type": "markdown",
   "id": "fd6cfdb8",
   "metadata": {},
   "source": [
    "### While copying the contents always use copy() function"
   ]
  },
  {
   "cell_type": "code",
   "execution_count": 3,
   "id": "d81a42ce",
   "metadata": {},
   "outputs": [],
   "source": [
    "# Suppose we hav an array\n",
    "\n",
    "n = np.array([1,2,3])"
   ]
  },
  {
   "cell_type": "code",
   "execution_count": 4,
   "id": "08c19f4f",
   "metadata": {},
   "outputs": [
    {
     "name": "stdout",
     "output_type": "stream",
     "text": [
      "[1 2 3]\n"
     ]
    }
   ],
   "source": [
    "# If we assign a new variable to a n as:\n",
    "\n",
    "z = n\n",
    "print(z)"
   ]
  },
  {
   "cell_type": "code",
   "execution_count": 5,
   "id": "bb24790c",
   "metadata": {},
   "outputs": [
    {
     "name": "stdout",
     "output_type": "stream",
     "text": [
      "[21  2  3]\n"
     ]
    }
   ],
   "source": [
    "# We think that we have made a copy successfully but here's the issue\n",
    "\n",
    "z[0] = 21\n",
    "print(n)"
   ]
  },
  {
   "cell_type": "markdown",
   "id": "00a18a7a",
   "metadata": {},
   "source": [
    "#### When we change any value in z it is also chnged in n by this method"
   ]
  },
  {
   "cell_type": "raw",
   "id": "5065d90b",
   "metadata": {},
   "source": [
    "# The reason is because both z and n are pointing to same array inside numpy "
   ]
  },
  {
   "cell_type": "markdown",
   "id": "709bb1f2",
   "metadata": {},
   "source": [
    "### Using copy()"
   ]
  },
  {
   "cell_type": "code",
   "execution_count": 6,
   "id": "3e76caa1",
   "metadata": {},
   "outputs": [],
   "source": [
    "n = np.array([1,2,3])"
   ]
  },
  {
   "cell_type": "code",
   "execution_count": 7,
   "id": "a128a035",
   "metadata": {},
   "outputs": [
    {
     "name": "stdout",
     "output_type": "stream",
     "text": [
      "[1 2 3]\n"
     ]
    }
   ],
   "source": [
    "z = n.copy()\n",
    "print(z)"
   ]
  },
  {
   "cell_type": "code",
   "execution_count": 8,
   "id": "03a15aee",
   "metadata": {},
   "outputs": [
    {
     "name": "stdout",
     "output_type": "stream",
     "text": [
      "[1 2 3]\n"
     ]
    }
   ],
   "source": [
    "z[0] = 21\n",
    "print(n)"
   ]
  },
  {
   "cell_type": "code",
   "execution_count": 9,
   "id": "3b5667db",
   "metadata": {},
   "outputs": [
    {
     "name": "stdout",
     "output_type": "stream",
     "text": [
      "[21  2  3]\n"
     ]
    }
   ],
   "source": [
    "print(z)"
   ]
  },
  {
   "cell_type": "markdown",
   "id": "9694f041",
   "metadata": {},
   "source": [
    "## 5. Mathematics in Numpy"
   ]
  },
  {
   "cell_type": "markdown",
   "id": "fe8db1cf",
   "metadata": {},
   "source": [
    "### 5a. Element wise maths"
   ]
  },
  {
   "cell_type": "code",
   "execution_count": 10,
   "id": "e74820c9",
   "metadata": {},
   "outputs": [
    {
     "data": {
      "text/plain": [
       "array([1, 2, 3])"
      ]
     },
     "execution_count": 10,
     "metadata": {},
     "output_type": "execute_result"
    }
   ],
   "source": [
    "n"
   ]
  },
  {
   "cell_type": "code",
   "execution_count": 11,
   "id": "cd8ab3ff",
   "metadata": {},
   "outputs": [
    {
     "data": {
      "text/plain": [
       "array([3, 4, 5])"
      ]
     },
     "execution_count": 11,
     "metadata": {},
     "output_type": "execute_result"
    }
   ],
   "source": [
    "n + 2"
   ]
  },
  {
   "cell_type": "code",
   "execution_count": 12,
   "id": "d0032e6e",
   "metadata": {},
   "outputs": [
    {
     "data": {
      "text/plain": [
       "array([0.5, 1. , 1.5])"
      ]
     },
     "execution_count": 12,
     "metadata": {},
     "output_type": "execute_result"
    }
   ],
   "source": [
    "n/2"
   ]
  },
  {
   "cell_type": "code",
   "execution_count": 14,
   "id": "47de283c",
   "metadata": {},
   "outputs": [
    {
     "data": {
      "text/plain": [
       "array([1, 2, 3])"
      ]
     },
     "execution_count": 14,
     "metadata": {},
     "output_type": "execute_result"
    }
   ],
   "source": [
    "n"
   ]
  },
  {
   "cell_type": "code",
   "execution_count": 13,
   "id": "4ae2ce33",
   "metadata": {},
   "outputs": [
    {
     "data": {
      "text/plain": [
       "array([22,  4,  6])"
      ]
     },
     "execution_count": 13,
     "metadata": {},
     "output_type": "execute_result"
    }
   ],
   "source": [
    "n + z"
   ]
  },
  {
   "cell_type": "code",
   "execution_count": 16,
   "id": "212f7729",
   "metadata": {},
   "outputs": [
    {
     "data": {
      "text/plain": [
       "array([0.84147098, 0.90929743, 0.14112001])"
      ]
     },
     "execution_count": 16,
     "metadata": {},
     "output_type": "execute_result"
    }
   ],
   "source": [
    "# Taking sin of all elements\n",
    "\n",
    "np.sin(n)"
   ]
  },
  {
   "cell_type": "markdown",
   "id": "79603943",
   "metadata": {},
   "source": [
    "### 5b. Linear Algebra"
   ]
  },
  {
   "cell_type": "raw",
   "id": "fc85c52b",
   "metadata": {},
   "source": [
    "# Matrix multlipication"
   ]
  },
  {
   "cell_type": "code",
   "execution_count": 19,
   "id": "3365e563",
   "metadata": {},
   "outputs": [
    {
     "name": "stdout",
     "output_type": "stream",
     "text": [
      "[[1 1 1]\n",
      " [1 1 1]]\n"
     ]
    }
   ],
   "source": [
    "a = np.full((2,3), 1)\n",
    "print(a)"
   ]
  },
  {
   "cell_type": "code",
   "execution_count": 20,
   "id": "711c50bf",
   "metadata": {},
   "outputs": [
    {
     "name": "stdout",
     "output_type": "stream",
     "text": [
      "[[2 2 2 2]\n",
      " [2 2 2 2]\n",
      " [2 2 2 2]]\n"
     ]
    }
   ],
   "source": [
    "b = np.full((3,4), 2)\n",
    "print(b)"
   ]
  },
  {
   "cell_type": "code",
   "execution_count": 23,
   "id": "364bc0d0",
   "metadata": {},
   "outputs": [
    {
     "data": {
      "text/plain": [
       "array([[6, 6, 6, 6],\n",
       "       [6, 6, 6, 6]])"
      ]
     },
     "execution_count": 23,
     "metadata": {},
     "output_type": "execute_result"
    }
   ],
   "source": [
    "# Multiplying Matrix a and b\n",
    "\n",
    "np.matmul(a,b)"
   ]
  },
  {
   "cell_type": "raw",
   "id": "d0a68c11",
   "metadata": {},
   "source": [
    "# Finding determinant"
   ]
  },
  {
   "cell_type": "code",
   "execution_count": 26,
   "id": "7450ec76",
   "metadata": {},
   "outputs": [
    {
     "name": "stdout",
     "output_type": "stream",
     "text": [
      "[[2 2]\n",
      " [2 2]]\n"
     ]
    }
   ],
   "source": [
    "a = np.full((2,2), 2)\n",
    "print(a)"
   ]
  },
  {
   "cell_type": "code",
   "execution_count": 28,
   "id": "0512135b",
   "metadata": {},
   "outputs": [
    {
     "data": {
      "text/plain": [
       "0.0"
      ]
     },
     "execution_count": 28,
     "metadata": {},
     "output_type": "execute_result"
    }
   ],
   "source": [
    "np.linalg.det(a)"
   ]
  },
  {
   "cell_type": "markdown",
   "id": "45f5dbac",
   "metadata": {},
   "source": [
    "### 5c. Simple Stats"
   ]
  },
  {
   "cell_type": "code",
   "execution_count": 29,
   "id": "3f9f3ffa",
   "metadata": {},
   "outputs": [
    {
     "name": "stdout",
     "output_type": "stream",
     "text": [
      "[[1 2 3]\n",
      " [4 5 6]]\n"
     ]
    }
   ],
   "source": [
    "stats = np.array([[1,2,3],[4,5,6]])\n",
    "print(stats)"
   ]
  },
  {
   "cell_type": "code",
   "execution_count": 30,
   "id": "ddf422d2",
   "metadata": {},
   "outputs": [
    {
     "data": {
      "text/plain": [
       "1"
      ]
     },
     "execution_count": 30,
     "metadata": {},
     "output_type": "execute_result"
    }
   ],
   "source": [
    "# Min\n",
    "np.min(stats)"
   ]
  },
  {
   "cell_type": "code",
   "execution_count": 31,
   "id": "324f4ecf",
   "metadata": {},
   "outputs": [
    {
     "data": {
      "text/plain": [
       "6"
      ]
     },
     "execution_count": 31,
     "metadata": {},
     "output_type": "execute_result"
    }
   ],
   "source": [
    "# Max\n",
    "np.max(stats)"
   ]
  },
  {
   "cell_type": "code",
   "execution_count": 32,
   "id": "07eb7355",
   "metadata": {},
   "outputs": [
    {
     "data": {
      "text/plain": [
       "array([1, 2, 3])"
      ]
     },
     "execution_count": 32,
     "metadata": {},
     "output_type": "execute_result"
    }
   ],
   "source": [
    "# Axiswise max, min\n",
    "\n",
    "np.min(stats, axis=0)"
   ]
  },
  {
   "cell_type": "code",
   "execution_count": 33,
   "id": "c30c2183",
   "metadata": {},
   "outputs": [
    {
     "data": {
      "text/plain": [
       "array([3, 6])"
      ]
     },
     "execution_count": 33,
     "metadata": {},
     "output_type": "execute_result"
    }
   ],
   "source": [
    "np.max(stats, axis = 1)"
   ]
  },
  {
   "cell_type": "code",
   "execution_count": 34,
   "id": "8bd3c4b1",
   "metadata": {},
   "outputs": [
    {
     "data": {
      "text/plain": [
       "21"
      ]
     },
     "execution_count": 34,
     "metadata": {},
     "output_type": "execute_result"
    }
   ],
   "source": [
    "# Sum\n",
    "np.sum(stats)"
   ]
  },
  {
   "cell_type": "code",
   "execution_count": 35,
   "id": "72c26f8b",
   "metadata": {},
   "outputs": [
    {
     "data": {
      "text/plain": [
       "array([5, 7, 9])"
      ]
     },
     "execution_count": 35,
     "metadata": {},
     "output_type": "execute_result"
    }
   ],
   "source": [
    "# Axis wise Sum\n",
    "\n",
    "np.sum(stats, axis=0)"
   ]
  },
  {
   "cell_type": "code",
   "execution_count": 36,
   "id": "4bde8964",
   "metadata": {},
   "outputs": [
    {
     "data": {
      "text/plain": [
       "array([ 6, 15])"
      ]
     },
     "execution_count": 36,
     "metadata": {},
     "output_type": "execute_result"
    }
   ],
   "source": [
    "np.sum(stats, axis=1)"
   ]
  },
  {
   "cell_type": "markdown",
   "id": "322147d9",
   "metadata": {},
   "source": [
    "## 6. Reorganizing Arrays"
   ]
  },
  {
   "cell_type": "markdown",
   "id": "8b95bfb8",
   "metadata": {},
   "source": [
    "### 6a. Changing Shape of the Array"
   ]
  },
  {
   "cell_type": "code",
   "execution_count": 37,
   "id": "82f62153",
   "metadata": {},
   "outputs": [
    {
     "name": "stdout",
     "output_type": "stream",
     "text": [
      "[[1 2 3]\n",
      " [4 5 6]]\n"
     ]
    }
   ],
   "source": [
    "before = np.array([[1,2,3],[4,5,6]])\n",
    "print(before)"
   ]
  },
  {
   "cell_type": "code",
   "execution_count": 43,
   "id": "f2fbaed3",
   "metadata": {},
   "outputs": [
    {
     "name": "stdout",
     "output_type": "stream",
     "text": [
      "[[1]\n",
      " [2]\n",
      " [3]\n",
      " [4]\n",
      " [5]\n",
      " [6]]\n"
     ]
    }
   ],
   "source": [
    "after = before.reshape((6,1))\n",
    "print(after)"
   ]
  },
  {
   "cell_type": "code",
   "execution_count": 45,
   "id": "e9b8630c",
   "metadata": {},
   "outputs": [
    {
     "name": "stdout",
     "output_type": "stream",
     "text": [
      "[[1 2]\n",
      " [3 4]\n",
      " [5 6]]\n"
     ]
    }
   ],
   "source": [
    "after = before.reshape((3,2))\n",
    "print(after)"
   ]
  },
  {
   "cell_type": "markdown",
   "id": "4bd8b37d",
   "metadata": {},
   "source": [
    "### 6b. Vertical/Horizontal Stack"
   ]
  },
  {
   "cell_type": "code",
   "execution_count": 46,
   "id": "0caabc9a",
   "metadata": {},
   "outputs": [
    {
     "name": "stdout",
     "output_type": "stream",
     "text": [
      "[1 2 3]\n"
     ]
    }
   ],
   "source": [
    "a = np.array([1,2,3])\n",
    "print(a)"
   ]
  },
  {
   "cell_type": "code",
   "execution_count": 47,
   "id": "f91c5f3f",
   "metadata": {},
   "outputs": [
    {
     "name": "stdout",
     "output_type": "stream",
     "text": [
      "[3 4 5]\n"
     ]
    }
   ],
   "source": [
    "b = np.array([3,4,5])\n",
    "print(b)"
   ]
  },
  {
   "cell_type": "code",
   "execution_count": 48,
   "id": "4d4e55c9",
   "metadata": {},
   "outputs": [
    {
     "data": {
      "text/plain": [
       "array([[1, 2, 3],\n",
       "       [3, 4, 5],\n",
       "       [1, 2, 3],\n",
       "       [3, 4, 5],\n",
       "       [3, 4, 5]])"
      ]
     },
     "execution_count": 48,
     "metadata": {},
     "output_type": "execute_result"
    }
   ],
   "source": [
    "# Vertical Stack\n",
    "\n",
    "np.vstack([a,b,a,b,b])"
   ]
  },
  {
   "cell_type": "code",
   "execution_count": 50,
   "id": "ff7b495b",
   "metadata": {},
   "outputs": [
    {
     "data": {
      "text/plain": [
       "array([1, 2, 3, 3, 4, 5, 1, 2, 3])"
      ]
     },
     "execution_count": 50,
     "metadata": {},
     "output_type": "execute_result"
    }
   ],
   "source": [
    "# Horizontal Stack\n",
    "\n",
    "np.hstack([a,b,a])"
   ]
  },
  {
   "cell_type": "markdown",
   "id": "b5962595",
   "metadata": {},
   "source": [
    "## 7. Miscellaneous "
   ]
  },
  {
   "cell_type": "markdown",
   "id": "75776949",
   "metadata": {},
   "source": [
    "### 7a. Loading a txt file with numbers directly into numpy"
   ]
  },
  {
   "cell_type": "raw",
   "id": "6e88e24d",
   "metadata": {},
   "source": [
    "# We have already a file data.txt in our local folder\n",
    "# You can download the file from my GitHub Link"
   ]
  },
  {
   "cell_type": "code",
   "execution_count": 51,
   "id": "ef017a3d",
   "metadata": {},
   "outputs": [
    {
     "data": {
      "text/plain": [
       "array([[  1.,  13.,  21.,  11., 196.,  75.,   4.,   3.,  34.,   6.,   7.,\n",
       "          8.,   0.,   1.,   2.,   3.,   4.,   5.],\n",
       "       [  3.,  42.,  12.,  33., 766.,  75.,   4.,  55.,   6.,   4.,   3.,\n",
       "          4.,   5.,   6.,   7.,   0.,  11.,  12.],\n",
       "       [  1.,  22.,  33.,  11., 999.,  11.,   2.,   1.,  78.,   0.,   1.,\n",
       "          2.,   9.,   8.,   7.,   1.,  76.,  88.]])"
      ]
     },
     "execution_count": 51,
     "metadata": {},
     "output_type": "execute_result"
    }
   ],
   "source": [
    "filedata = np.genfromtxt('data.txt', delimiter=',')\n",
    "filedata"
   ]
  },
  {
   "cell_type": "code",
   "execution_count": 52,
   "id": "3d44993c",
   "metadata": {},
   "outputs": [
    {
     "data": {
      "text/plain": [
       "array([[  1,  13,  21,  11, 196,  75,   4,   3,  34,   6,   7,   8,   0,\n",
       "          1,   2,   3,   4,   5],\n",
       "       [  3,  42,  12,  33, 766,  75,   4,  55,   6,   4,   3,   4,   5,\n",
       "          6,   7,   0,  11,  12],\n",
       "       [  1,  22,  33,  11, 999,  11,   2,   1,  78,   0,   1,   2,   9,\n",
       "          8,   7,   1,  76,  88]])"
      ]
     },
     "execution_count": 52,
     "metadata": {},
     "output_type": "execute_result"
    }
   ],
   "source": [
    "# But we see that all data is converted to float by default\n",
    "# We can change that to integer as follows:\n",
    "\n",
    "filedataint = filedata.astype('int32')\n",
    "filedataint"
   ]
  },
  {
   "cell_type": "markdown",
   "id": "adea3854",
   "metadata": {},
   "source": [
    "### 7b. Boolean Masking and Advanced Indexing"
   ]
  },
  {
   "cell_type": "code",
   "execution_count": 53,
   "id": "5ee8bf33",
   "metadata": {},
   "outputs": [
    {
     "data": {
      "text/plain": [
       "array([[False, False, False, False,  True, False, False, False, False,\n",
       "        False, False, False, False, False, False, False, False, False],\n",
       "       [False, False, False, False,  True, False, False, False, False,\n",
       "        False, False, False, False, False, False, False, False, False],\n",
       "       [False, False, False, False,  True, False, False, False, False,\n",
       "        False, False, False, False, False, False, False, False, False]])"
      ]
     },
     "execution_count": 53,
     "metadata": {},
     "output_type": "execute_result"
    }
   ],
   "source": [
    "## Boolean masking means checking an array on a certain parameter\n",
    "\n",
    "filedataint > 100\n",
    "\n",
    "# Checking the place where no. greater than 100 is present"
   ]
  },
  {
   "cell_type": "code",
   "execution_count": 56,
   "id": "c9e5c43b",
   "metadata": {},
   "outputs": [
    {
     "data": {
      "text/plain": [
       "array([196,  75, 766,  75,  55, 999,  78,  76,  88])"
      ]
     },
     "execution_count": 56,
     "metadata": {},
     "output_type": "execute_result"
    }
   ],
   "source": [
    "# Indexing on Boolean\n",
    "\n",
    "filedataint[filedataint > 50]"
   ]
  },
  {
   "cell_type": "code",
   "execution_count": 61,
   "id": "0fe30083",
   "metadata": {},
   "outputs": [
    {
     "data": {
      "text/plain": [
       "array([[  1,  13,  21,  11, 196,  75,   4,   3,  34,   6,   7,   8,   0,\n",
       "          1,   2,   3,   4,   5],\n",
       "       [  3,  42,  12,  33, 766,  75,   4,  55,   6,   4,   3,   4,   5,\n",
       "          6,   7,   0,  11,  12],\n",
       "       [  1,  22,  33,  11, 999,  11,   2,   1,  78,   0,   1,   2,   9,\n",
       "          8,   7,   1,  76,  88]])"
      ]
     },
     "execution_count": 61,
     "metadata": {},
     "output_type": "execute_result"
    }
   ],
   "source": [
    "filedataint"
   ]
  },
  {
   "cell_type": "code",
   "execution_count": 60,
   "id": "37170c05",
   "metadata": {},
   "outputs": [
    {
     "data": {
      "text/plain": [
       "array([False, False, False, False,  True, False, False, False, False,\n",
       "       False, False, False, False, False, False, False, False, False])"
      ]
     },
     "execution_count": 60,
     "metadata": {},
     "output_type": "execute_result"
    }
   ],
   "source": [
    "# Checking Boolean on Axis\n",
    "\n",
    "np.any(filedataint > 100, axis = 0)\n",
    "\n",
    "# Checking only in first row"
   ]
  },
  {
   "cell_type": "code",
   "execution_count": 62,
   "id": "ffcacea6",
   "metadata": {},
   "outputs": [
    {
     "data": {
      "text/plain": [
       "array([ True,  True,  True])"
      ]
     },
     "execution_count": 62,
     "metadata": {},
     "output_type": "execute_result"
    }
   ],
   "source": [
    "np.any(filedataint > 100, axis=1)"
   ]
  },
  {
   "cell_type": "code",
   "execution_count": 63,
   "id": "4c450616",
   "metadata": {},
   "outputs": [
    {
     "data": {
      "text/plain": [
       "array([False, False, False, False,  True, False, False, False, False,\n",
       "       False, False, False, False, False, False, False, False, False])"
      ]
     },
     "execution_count": 63,
     "metadata": {},
     "output_type": "execute_result"
    }
   ],
   "source": [
    "np.all(filedataint > 100, axis=0)  "
   ]
  },
  {
   "cell_type": "code",
   "execution_count": 64,
   "id": "9104d396",
   "metadata": {},
   "outputs": [
    {
     "data": {
      "text/plain": [
       "array([False, False, False])"
      ]
     },
     "execution_count": 64,
     "metadata": {},
     "output_type": "execute_result"
    }
   ],
   "source": [
    "np.all(filedataint > 100, axis=1)"
   ]
  },
  {
   "cell_type": "code",
   "execution_count": 65,
   "id": "c0e137f9",
   "metadata": {},
   "outputs": [
    {
     "data": {
      "text/plain": [
       "array([[False, False, False, False, False,  True, False, False, False,\n",
       "        False, False, False, False, False, False, False, False, False],\n",
       "       [False, False, False, False, False,  True, False,  True, False,\n",
       "        False, False, False, False, False, False, False, False, False],\n",
       "       [False, False, False, False, False, False, False, False,  True,\n",
       "        False, False, False, False, False, False, False,  True,  True]])"
      ]
     },
     "execution_count": 65,
     "metadata": {},
     "output_type": "execute_result"
    }
   ],
   "source": [
    "# Multiple Conditions\n",
    "\n",
    "((filedataint > 50) & (filedataint < 100))"
   ]
  },
  {
   "cell_type": "markdown",
   "id": "23184ddc",
   "metadata": {},
   "source": [
    "### That's all. Keep Learning !!!"
   ]
  },
  {
   "cell_type": "markdown",
   "id": "ed1f5ae1",
   "metadata": {},
   "source": [
    "### For more resources: https://docs.scipy.org/doc/numpy-1.13.0/user/basics.html"
   ]
  }
 ],
 "metadata": {
  "kernelspec": {
   "display_name": "Python 3 (ipykernel)",
   "language": "python",
   "name": "python3"
  },
  "language_info": {
   "codemirror_mode": {
    "name": "ipython",
    "version": 3
   },
   "file_extension": ".py",
   "mimetype": "text/x-python",
   "name": "python",
   "nbconvert_exporter": "python",
   "pygments_lexer": "ipython3",
   "version": "3.10.1"
  }
 },
 "nbformat": 4,
 "nbformat_minor": 5
}
